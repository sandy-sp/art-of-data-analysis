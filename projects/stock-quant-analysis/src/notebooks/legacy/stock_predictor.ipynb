{
 "cells": [
  {
   "cell_type": "markdown",
   "id": "2243cdf6",
   "metadata": {},
   "source": [
    "## 📈 Stock Predictor - Machine Learning Model\n",
    "This notebook trains a machine learning model to predict the next-day closing price using technical indicators."
   ]
  },
  {
   "cell_type": "code",
   "execution_count": null,
   "id": "3e838601",
   "metadata": {},
   "outputs": [],
   "source": [
    "import pandas as pd\n",
    "from src.data.fetcher import fetch_data\n",
    "from src.features.indicators import (\n",
    "    add_moving_average, add_rsi, add_macd, add_bollinger_bands, add_ema_crossover\n",
    ")\n",
    "from sklearn.ensemble import RandomForestRegressor\n",
    "from sklearn.model_selection import train_test_split\n",
    "from sklearn.metrics import mean_squared_error\n",
    "import joblib"
   ]
  },
  {
   "cell_type": "code",
   "execution_count": null,
   "id": "3262db98",
   "metadata": {},
   "outputs": [],
   "source": [
    "ticker = \"AAPL\"\n",
    "df = fetch_data(ticker, period=\"1y\")\n",
    "\n",
    "# Add indicators\n",
    "df = add_moving_average(df)\n",
    "df = add_bollinger_bands(df)\n",
    "df = add_rsi(df)\n",
    "df = add_macd(df)\n",
    "df = add_ema_crossover(df)\n",
    "\n",
    "# Drop NA and prepare target\n",
    "df.dropna(inplace=True)\n",
    "df[\"Target\"] = df[\"Close\"].shift(-1)  # next-day close\n",
    "df.dropna(inplace=True)  # drop final NA row"
   ]
  },
  {
   "cell_type": "code",
   "execution_count": null,
   "id": "a8957efd",
   "metadata": {},
   "outputs": [],
   "source": [
    "# Select features\n",
    "features = [\n",
    "    \"MA_20\", \"BB_Upper\", \"BB_Lower\", \"RSI\",\n",
    "    \"MACD\", \"MACD_Signal\", \"EMA_9\", \"EMA_21\"\n",
    "]\n",
    "X = df[features]\n",
    "y = df[\"Target\"]\n",
    "\n",
    "X_train, X_test, y_train, y_test = train_test_split(X, y, shuffle=False, test_size=0.2)"
   ]
  },
  {
   "cell_type": "code",
   "execution_count": null,
   "id": "f648469b",
   "metadata": {},
   "outputs": [],
   "source": [
    "model = RandomForestRegressor(n_estimators=100, random_state=42)\n",
    "model.fit(X_train, y_train)\n",
    "\n",
    "# Predict + evaluate\n",
    "preds = model.predict(X_test)\n",
    "rmse = mean_squared_error(y_test, preds, squared=False)\n",
    "print(f\"Test RMSE: {rmse:.2f}\")"
   ]
  },
  {
   "cell_type": "code",
   "execution_count": null,
   "id": "836316e4",
   "metadata": {},
   "outputs": [],
   "source": [
    "joblib.dump(model, \"../src/model/trained_model.pkl\")\n",
    "print(\"✅ Model saved.\")"
   ]
  }
 ],
 "metadata": {},
 "nbformat": 4,
 "nbformat_minor": 5
}
