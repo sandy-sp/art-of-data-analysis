{
  "cells": [
    {
      "cell_type": "markdown",
      "metadata": {},
      "source": [
        "## 📈 Stock Predictor - Transformer Model (Darts)\n",
        "This notebook trains a Transformer model using the `darts` library to predict the next-day closing price."
      ]
    },
    {
      "cell_type": "code",
      "execution_count": null,
      "metadata": {
        "tags": [
          "parameters"
        ]
      },
      "outputs": [],
      "source": [
        "# Parameters\n",
        "ticker = \"AAPL\""
      ]
    },
    {
      "cell_type": "code",
      "execution_count": null,
      "metadata": {},
      "outputs": [],
      "source": [
        "import pandas as pd\n",
        "from src.data.fetcher import fetch_data\n",
        "from darts.models import TransformerModel\n",
        "from darts import TimeSeries\n",
        "from darts.dataprocessing.transformers import Scaler\n",
        "from darts.metrics import rmse\n",
        "import matplotlib.pyplot as plt\n",
        "import os"
      ]
    },
    {
      "cell_type": "code",
      "execution_count": null,
      "id": "ba2ef87a",
      "metadata": {},
      "outputs": [],
      "source": [
        "# Fetch full historical data\n",
        "df = fetch_data(ticker, period=\"max\")\n",
        "df = df.reset_index()\n",
        "df['Date'] = pd.to_datetime(df['Date'], errors='coerce')\n",
        "df = df.dropna(subset=['Date'])\n",
        "df['Date'] = df['Date'].dt.tz_localize(None)  # ✅ Strip timezone\n",
        "print('✅ Final dtype of Date:', df['Date'].dtype)"
      ]
    },
    {
      "cell_type": "code",
      "execution_count": null,
      "id": "004c6136",
      "metadata": {},
      "outputs": [],
      "source": [
        "# Convert to TimeSeries\n",
        "series = TimeSeries.from_dataframe(\n",
        "    df,\n",
        "    time_col=\"Date\",\n",
        "    value_cols=\"Close\",\n",
        "    fill_missing_dates=True,\n",
        "    freq=\"D\"\n",
        ")\n",
        "scaler = Scaler()\n",
        "series_scaled = scaler.fit_transform(series)"
      ]
    },
    {
      "cell_type": "code",
      "execution_count": null,
      "metadata": {},
      "outputs": [],
      "source": [
        "# Train-validation split\n",
        "train, val = series_scaled.split_before(0.8)"
      ]
    },
    {
      "cell_type": "code",
      "execution_count": null,
      "metadata": {},
      "outputs": [],
      "source": [
        "# Define Transformer model\n",
        "model = TransformerModel(\n",
        "    input_chunk_length=30,\n",
        "    output_chunk_length=1,\n",
        "    n_epochs=100,\n",
        "    model_name=f\"transformer_{ticker}\",\n",
        "    random_state=42,\n",
        "    save_checkpoints=True,\n",
        "    force_reset=True\n",
        ")"
      ]
    },
    {
      "cell_type": "code",
      "execution_count": null,
      "metadata": {},
      "outputs": [],
      "source": [
        "# Train the model\n",
        "model.fit(train, verbose=True)"
      ]
    },
    {
      "cell_type": "code",
      "execution_count": null,
      "metadata": {},
      "outputs": [],
      "source": [
        "# Forecast\n",
        "forecast = model.predict(n=len(val))\n",
        "forecast_actual = scaler.inverse_transform(forecast)\n",
        "val_actual = scaler.inverse_transform(val)"
      ]
    },
    {
      "cell_type": "code",
      "execution_count": null,
      "metadata": {},
      "outputs": [],
      "source": [
        "# Evaluate\n",
        "error = rmse(val_actual, forecast_actual)\n",
        "print(f\"Test RMSE: {error:.2f}\")"
      ]
    },
    {
      "cell_type": "code",
      "execution_count": null,
      "metadata": {},
      "outputs": [],
      "source": [
        "# Plot\n",
        "plt.figure(figsize=(10,6))\n",
        "val_actual.plot(label=\"Actual\")\n",
        "forecast_actual.plot(label=\"Predicted\")\n",
        "plt.title(f\"{ticker} - Actual vs Predicted\")\n",
        "plt.legend()\n",
        "os.makedirs(f\"artifacts/reports\", exist_ok=True)\n",
        "plt.savefig(f\"artifacts/reports/{ticker}_actual_vs_predicted.png\")\n",
        "plt.show()"
      ]
    },
    {
      "cell_type": "code",
      "execution_count": null,
      "id": "18a23208",
      "metadata": {},
      "outputs": [],
      "source": [
        "# Save model and scaler\n",
        "import joblib \n",
        "\n",
        "os.makedirs(\"artifacts/models\", exist_ok=True)\n",
        "model.save(f\"artifacts/models/transformer_{ticker}.pt\")\n",
        "scaler.save(f\"artifacts/models/scaler_{ticker}.pkl\")"
      ]
    }
  ],
  "metadata": {
    "kernelspec": {
      "display_name": "Python 3",
      "language": "python",
      "name": "python3"
    },
    "language_info": {
      "name": "python"
    }
  },
  "nbformat": 4,
  "nbformat_minor": 5
}
