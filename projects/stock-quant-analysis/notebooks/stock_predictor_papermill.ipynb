{
  "cells": [
    {
      "cell_type": "markdown",
      "metadata": {},
      "source": [
        "## 📈 Stock Predictor - Machine Learning Model\n",
        "This notebook trains a machine learning model to predict the next-day closing price using technical indicators."
      ]
    },
    {
      "cell_type": "code",
      "execution_count": null,
      "metadata": {
        "tags": [
          "parameters"
        ]
      },
      "outputs": [],
      "source": [
        "# Parameters\n",
        "ticker = \"AAPL\""
      ]
    },
    {
      "cell_type": "code",
      "execution_count": null,
      "id": "592e1274",
      "metadata": {},
      "outputs": [],
      "source": [
        "import pandas as pd\n",
        "from src.data.fetcher import fetch_data\n",
        "from src.features.indicators import (\n",
        "    add_moving_average, add_rsi, add_macd, add_bollinger_bands, add_ema_crossover\n",
        ")\n",
        "from sklearn.ensemble import RandomForestRegressor\n",
        "from sklearn.model_selection import train_test_split\n",
        "from sklearn.metrics import mean_squared_error\n",
        "import joblib \n",
        "from math import sqrt"
      ]
    },
    {
      "cell_type": "code",
      "execution_count": null,
      "id": "f72b34f7",
      "metadata": {},
      "outputs": [],
      "source": [
        "df = fetch_data(ticker, period=\"1y\")\n",
        "df = add_moving_average(df)\n",
        "df = add_bollinger_bands(df)\n",
        "df = add_rsi(df)\n",
        "df = add_macd(df)\n",
        "df = add_ema_crossover(df)\n",
        "\n",
        "df.dropna(inplace=True)\n",
        "df[\"Target\"] = df[\"Close\"].shift(-1)\n",
        "df.dropna(inplace=True)"
      ]
    },
    {
      "cell_type": "code",
      "execution_count": null,
      "id": "a15eeb77",
      "metadata": {},
      "outputs": [],
      "source": [
        "features = [\n",
        "    \"MA_20\", \"BB_Upper\", \"BB_Lower\", \"RSI\",\n",
        "    \"MACD\", \"MACD_Signal\", \"EMA_9\", \"EMA_21\"\n",
        "]\n",
        "X = df[features]\n",
        "y = df[\"Target\"]\n",
        "\n",
        "X_train, X_test, y_train, y_test = train_test_split(X, y, shuffle=False, test_size=0.2)"
      ]
    },
    {
      "cell_type": "code",
      "execution_count": null,
      "id": "37ae687a",
      "metadata": {},
      "outputs": [],
      "source": [
        "model = RandomForestRegressor(n_estimators=100, random_state=42)\n",
        "model.fit(X_train, y_train)\n",
        "\n",
        "preds = model.predict(X_test)\n",
        "rmse = sqrt(mean_squared_error(y_test, preds))\n",
        "print(f\"Test RMSE: {rmse:.2f}\")"
      ]
    },
    {
      "cell_type": "code",
      "execution_count": null,
      "metadata": {},
      "outputs": [],
      "source": [
        "import os\n",
        "\n",
        "# Check the current working directory\n",
        "print(f\"Current working directory: {os.getcwd()}\")\n",
        "\n",
        "# Ensure the directory exists\n",
        "model_dir = \"./src/model\"\n",
        "os.makedirs(model_dir, exist_ok=True)\n",
        "\n",
        "# Save the model\n",
        "model_path = os.path.join(model_dir, f\"trained_model_{ticker}.pkl\")\n",
        "joblib.dump(model, model_path)\n",
        "print(f\"✅ Model saved as {model_path}\")"
      ]
    }
  ],
  "metadata": {
    "kernelspec": {
      "display_name": "Python 3",
      "language": "python",
      "name": "python3"
    },
    "language_info": {
      "name": "python"
    }
  },
  "nbformat": 4,
  "nbformat_minor": 5
}
